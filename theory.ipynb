{
 "cells": [
  {
   "cell_type": "markdown",
   "metadata": {},
   "source": [
    "# Python Integration with txt files\n",
    "\n",
    "If you want to simply read a txt file or write one, let's see how to do it now.\n",
    "\n",
    "### Structure:"
   ]
  },
  {
   "cell_type": "raw",
   "metadata": {},
   "source": [
    "1. Open method: -> open a txt file\n",
    "\n",
    "arquivo = open('NomeArquivo.txt', 'r')\n",
    "\n",
    "We use 'r' to open the file to read (read) and 'w' when we are opening the file to write (write) or 'a' if we are going to add (append) information in the file"
   ]
  },
  {
   "cell_type": "markdown",
   "metadata": {},
   "source": [
    "- With the file open, we can now effectively read the file with the methods:"
   ]
  },
  {
   "cell_type": "raw",
   "metadata": {},
   "source": [
    "2. read() method:\n",
    "\n",
    "texto_arquivo = arquivo.read()\n",
    "\n",
    "3. readlines() method:\n",
    "\n",
    "lista_linhas = arquivo.readlines()"
   ]
  },
  {
   "cell_type": "markdown",
   "metadata": {},
   "source": [
    "- To write something to the file we will have the write method:"
   ]
  },
  {
   "cell_type": "raw",
   "metadata": {},
   "source": [
    "4. write() method:\n",
    "\n",
    "arquivo.write('Texto que quero escrever')"
   ]
  },
  {
   "cell_type": "markdown",
   "metadata": {},
   "source": [
    "- Note: When you open a file, it remains open in Python until you close it. There are 2 ways to do this:"
   ]
  },
  {
   "cell_type": "raw",
   "metadata": {},
   "source": [
    "5. close() method:\n",
    "\n",
    "arquivo.close()\n",
    "\n",
    "6. Using the with structure: -> at the end of the with, the with structure itself automatically closes the file\n",
    "\n",
    "with open('NomeArquivo.txt', 'w') as arquivo:\n",
    "    arquivo.write()\n",
    "    ..."
   ]
  }
 ],
 "metadata": {
  "kernelspec": {
   "display_name": "Python 3.10.7 64-bit",
   "language": "python",
   "name": "python3"
  },
  "language_info": {
   "codemirror_mode": {
    "name": "ipython",
    "version": 3
   },
   "file_extension": ".py",
   "mimetype": "text/x-python",
   "name": "python",
   "nbconvert_exporter": "python",
   "pygments_lexer": "ipython3",
   "version": "3.10.7"
  },
  "vscode": {
   "interpreter": {
    "hash": "396a487d0f9a1aeea6eec7e2661c1b70bd880358e710a503b71d50d0e4959784"
   }
  }
 },
 "nbformat": 4,
 "nbformat_minor": 4
}

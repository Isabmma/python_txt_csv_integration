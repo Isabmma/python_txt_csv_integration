{
 "cells": [
  {
   "cell_type": "markdown",
   "metadata": {},
   "source": [
    "### Challenge where we will learn:\n",
    "\n",
    "- At Hashtag, we always analyze our \"Sales Funnel\". For this, we track where the students came from through a code, like:\n",
    "     - hashtag_site_org -> People who came from the Hashtag website\n",
    "     - hashtag_yt_org -> People who came from Hashtag's Youtube\n",
    "     - hashtag_ig_org -> People who came from Hashtag Instagram\n",
    "     - hashtag_igfb_org -> People who came through Instagram or Facebook from Hashtag\n",
    "\n",
    "Codes other than that are Hashtag ad codes.\n",
    "\n",
    "- We want to analyze how many students came from ad and how many came \"organic\".\n",
    "- What is the best \"organic\" source of students\n",
    "\n",
    "Note: organic is everything that didn't come from ads.\n",
    "\n",
    "In our system, we were able to export a txt with the information of the students, according to the file Students.txt<br>\n",
    "(Data was randomly generated to simulate a real situation, as we cannot provide real student data for security reasons)\n",
    "\n",
    "- In the end, for training, let's write all these answers in a new txt file"
   ]
  },
  {
   "cell_type": "code",
   "execution_count": null,
   "metadata": {},
   "outputs": [],
   "source": []
  }
 ],
 "metadata": {
  "kernelspec": {
   "display_name": "Python 3.10.7 64-bit",
   "language": "python",
   "name": "python3"
  },
  "language_info": {
   "name": "python",
   "version": "3.10.7"
  },
  "orig_nbformat": 4,
  "vscode": {
   "interpreter": {
    "hash": "396a487d0f9a1aeea6eec7e2661c1b70bd880358e710a503b71d50d0e4959784"
   }
  }
 },
 "nbformat": 4,
 "nbformat_minor": 2
}

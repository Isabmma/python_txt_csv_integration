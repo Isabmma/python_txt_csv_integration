{
 "cells": [
  {
   "cell_type": "markdown",
   "metadata": {},
   "source": [
    "### Challenge where we will learn:\n",
    "\n",
    "- At Hashtag, we always analyze our \"Sales Funnel\". For this, we track where the students came from through a code, like:\n",
    "     - hashtag_site_org -> People who came from the Hashtag website\n",
    "     - hashtag_yt_org -> People who came from Hashtag's Youtube\n",
    "     - hashtag_ig_org -> People who came from Hashtag Instagram\n",
    "     - hashtag_igfb_org -> People who came through Instagram or Facebook from Hashtag\n",
    "\n",
    "Codes other than that are Hashtag ad codes.\n",
    "\n",
    "- We want to analyze how many students came from ad and how many came \"organic\".\n",
    "- What is the best \"organic\" source of students\n",
    "\n",
    "Note: organic is everything that didn't come from ads.\n",
    "\n",
    "In our system, we were able to export a txt with the information of the students, according to the file Students.txt<br>\n",
    "\n",
    "- In the end, for training, let's write all these answers in a new txt file"
   ]
  },
  {
   "cell_type": "code",
   "execution_count": 35,
   "metadata": {},
   "outputs": [
    {
     "data": {
      "text/html": [
       "<div>\n",
       "<style scoped>\n",
       "    .dataframe tbody tr th:only-of-type {\n",
       "        vertical-align: middle;\n",
       "    }\n",
       "\n",
       "    .dataframe tbody tr th {\n",
       "        vertical-align: top;\n",
       "    }\n",
       "\n",
       "    .dataframe thead th {\n",
       "        text-align: right;\n",
       "    }\n",
       "</style>\n",
       "<table border=\"1\" class=\"dataframe\">\n",
       "  <thead>\n",
       "    <tr style=\"text-align: right;\">\n",
       "      <th></th>\n",
       "      <th>Lista de Clientes Hashtag</th>\n",
       "    </tr>\n",
       "  </thead>\n",
       "  <tbody>\n",
       "    <tr>\n",
       "      <th>0</th>\n",
       "      <td>Clientes Totais\\t500</td>\n",
       "    </tr>\n",
       "    <tr>\n",
       "      <th>1</th>\n",
       "      <td>Email,*origemurl</td>\n",
       "    </tr>\n",
       "    <tr>\n",
       "      <th>2</th>\n",
       "      <td>\"fulano1151@gmail.com,origemurl:nan;1095748386...</td>\n",
       "    </tr>\n",
       "    <tr>\n",
       "      <th>3</th>\n",
       "      <td>fulano1173@gmail.com,origemurl:nan</td>\n",
       "    </tr>\n",
       "    <tr>\n",
       "      <th>4</th>\n",
       "      <td>\"fulano1169@gmail.com,origemurl:hashtag_yt_org...</td>\n",
       "    </tr>\n",
       "    <tr>\n",
       "      <th>...</th>\n",
       "      <td>...</td>\n",
       "    </tr>\n",
       "    <tr>\n",
       "      <th>497</th>\n",
       "      <td>\"fulano1733@gmail.com,origemurl:hashtag_ig_org...</td>\n",
       "    </tr>\n",
       "    <tr>\n",
       "      <th>498</th>\n",
       "      <td>fulano1225@gmail.com,origemurl:nan</td>\n",
       "    </tr>\n",
       "    <tr>\n",
       "      <th>499</th>\n",
       "      <td>\"fulano1191@gmail.com,origemurl:23845264791230...</td>\n",
       "    </tr>\n",
       "    <tr>\n",
       "      <th>500</th>\n",
       "      <td>\"fulano1199@gmail.com,origemurl:hashtag_org_we...</td>\n",
       "    </tr>\n",
       "    <tr>\n",
       "      <th>501</th>\n",
       "      <td>\"fulano1133@gmail.com,origemurl:23844853233500...</td>\n",
       "    </tr>\n",
       "  </tbody>\n",
       "</table>\n",
       "<p>502 rows × 1 columns</p>\n",
       "</div>"
      ],
      "text/plain": [
       "                             Lista de Clientes Hashtag\n",
       "0                                 Clientes Totais\\t500\n",
       "1                                     Email,*origemurl\n",
       "2    \"fulano1151@gmail.com,origemurl:nan;1095748386...\n",
       "3                   fulano1173@gmail.com,origemurl:nan\n",
       "4    \"fulano1169@gmail.com,origemurl:hashtag_yt_org...\n",
       "..                                                 ...\n",
       "497  \"fulano1733@gmail.com,origemurl:hashtag_ig_org...\n",
       "498                 fulano1225@gmail.com,origemurl:nan\n",
       "499  \"fulano1191@gmail.com,origemurl:23845264791230...\n",
       "500  \"fulano1199@gmail.com,origemurl:hashtag_org_we...\n",
       "501  \"fulano1133@gmail.com,origemurl:23844853233500...\n",
       "\n",
       "[502 rows x 1 columns]"
      ]
     },
     "execution_count": 35,
     "metadata": {},
     "output_type": "execute_result"
    }
   ],
   "source": [
    "import pandas as pd\n",
    "\n",
    "students = pd.read_fwf('Alunos.txt')\n",
    "\n",
    "students"
   ]
  },
  {
   "cell_type": "code",
   "execution_count": 36,
   "metadata": {},
   "outputs": [
    {
     "data": {
      "text/html": [
       "<div>\n",
       "<style scoped>\n",
       "    .dataframe tbody tr th:only-of-type {\n",
       "        vertical-align: middle;\n",
       "    }\n",
       "\n",
       "    .dataframe tbody tr th {\n",
       "        vertical-align: top;\n",
       "    }\n",
       "\n",
       "    .dataframe thead th {\n",
       "        text-align: right;\n",
       "    }\n",
       "</style>\n",
       "<table border=\"1\" class=\"dataframe\">\n",
       "  <thead>\n",
       "    <tr style=\"text-align: right;\">\n",
       "      <th></th>\n",
       "      <th>Lista de Clientes Hashtag</th>\n",
       "    </tr>\n",
       "  </thead>\n",
       "  <tbody>\n",
       "    <tr>\n",
       "      <th>2</th>\n",
       "      <td>\"fulano1151@gmail.com,origemurl:nan;1095748386...</td>\n",
       "    </tr>\n",
       "    <tr>\n",
       "      <th>3</th>\n",
       "      <td>fulano1173@gmail.com,origemurl:nan</td>\n",
       "    </tr>\n",
       "    <tr>\n",
       "      <th>4</th>\n",
       "      <td>\"fulano1169@gmail.com,origemurl:hashtag_yt_org...</td>\n",
       "    </tr>\n",
       "    <tr>\n",
       "      <th>5</th>\n",
       "      <td>fulano1565@gmail.com,origemurl:nan</td>\n",
       "    </tr>\n",
       "    <tr>\n",
       "      <th>6</th>\n",
       "      <td>fulano1197@gmail.com,origemurl:nan</td>\n",
       "    </tr>\n",
       "    <tr>\n",
       "      <th>...</th>\n",
       "      <td>...</td>\n",
       "    </tr>\n",
       "    <tr>\n",
       "      <th>497</th>\n",
       "      <td>\"fulano1733@gmail.com,origemurl:hashtag_ig_org...</td>\n",
       "    </tr>\n",
       "    <tr>\n",
       "      <th>498</th>\n",
       "      <td>fulano1225@gmail.com,origemurl:nan</td>\n",
       "    </tr>\n",
       "    <tr>\n",
       "      <th>499</th>\n",
       "      <td>\"fulano1191@gmail.com,origemurl:23845264791230...</td>\n",
       "    </tr>\n",
       "    <tr>\n",
       "      <th>500</th>\n",
       "      <td>\"fulano1199@gmail.com,origemurl:hashtag_org_we...</td>\n",
       "    </tr>\n",
       "    <tr>\n",
       "      <th>501</th>\n",
       "      <td>\"fulano1133@gmail.com,origemurl:23844853233500...</td>\n",
       "    </tr>\n",
       "  </tbody>\n",
       "</table>\n",
       "<p>500 rows × 1 columns</p>\n",
       "</div>"
      ],
      "text/plain": [
       "                             Lista de Clientes Hashtag\n",
       "2    \"fulano1151@gmail.com,origemurl:nan;1095748386...\n",
       "3                   fulano1173@gmail.com,origemurl:nan\n",
       "4    \"fulano1169@gmail.com,origemurl:hashtag_yt_org...\n",
       "5                   fulano1565@gmail.com,origemurl:nan\n",
       "6                   fulano1197@gmail.com,origemurl:nan\n",
       "..                                                 ...\n",
       "497  \"fulano1733@gmail.com,origemurl:hashtag_ig_org...\n",
       "498                 fulano1225@gmail.com,origemurl:nan\n",
       "499  \"fulano1191@gmail.com,origemurl:23845264791230...\n",
       "500  \"fulano1199@gmail.com,origemurl:hashtag_org_we...\n",
       "501  \"fulano1133@gmail.com,origemurl:23844853233500...\n",
       "\n",
       "[500 rows x 1 columns]"
      ]
     },
     "execution_count": 36,
     "metadata": {},
     "output_type": "execute_result"
    }
   ],
   "source": [
    "only_students = students[2:]\n",
    "\n",
    "only_students"
   ]
  },
  {
   "cell_type": "code",
   "execution_count": 51,
   "metadata": {},
   "outputs": [],
   "source": [
    "site_org = 0\n",
    "yt_org = 0\n",
    "ig_org = 0\n",
    "org = 0\n",
    "ads = 0\n",
    "\n",
    "for lab, row in only_students.iterrows():\n",
    "     if '_org' in row['Lista de Clientes Hashtag']:\n",
    "          org += 1\n",
    "          if 'hashtag_site_org' in row['Lista de Clientes Hashtag']:\n",
    "               site_org += 1\n",
    "          if 'hashtag_yt_org' in row['Lista de Clientes Hashtag']:\n",
    "               yt_org += 1\n",
    "          if 'hashtag_ig_org' in row['Lista de Clientes Hashtag'] or 'hashtag_igfb_org' in row['Lista de Clientes Hashtag']:\n",
    "               ig_org += 1\n",
    "     else:\n",
    "          ads += 1\n",
    "     \n",
    "with open('Indicators.txt', 'w') as indicators_file:\n",
    "     indicators_file.write(f'Total Clients: 500\\n')\n",
    "     indicators_file.write(f'Ads Amount: {ads/500:.2%} with a total of {ads}\\n')\n",
    "     indicators_file.write(f'Organic Amount: {org/500:.2%} with a total of {org}\\n')\n",
    "     indicators_file.write(f'Youtube Organic Amount: {yt_org/500:.2%} with a total of {yt_org}\\n')\n",
    "     indicators_file.write(f'Instagram Organic Amount: {ig_org/500:.2%} with a total of {ig_org}\\n')\n",
    "     indicators_file.write(f'Website Organic Amount: {site_org/500:.2%} with a total of {site_org}\\n')\n"
   ]
  },
  {
   "cell_type": "code",
   "execution_count": 49,
   "metadata": {},
   "outputs": [
    {
     "data": {
      "text/plain": [
       "Text(0, 0.5, 'quantity')"
      ]
     },
     "execution_count": 49,
     "metadata": {},
     "output_type": "execute_result"
    },
    {
     "data": {
      "image/png": "[encoded data removed]",
      "text/plain": [
       "<Figure size 432x288 with 1 Axes>"
      ]
     },
     "metadata": {
      "needs_background": "light"
     },
     "output_type": "display_data"
    }
   ],
   "source": [
    "import matplotlib.pyplot as plt\n",
    "\n",
    "x_orgs = ['site_org', 'yt_org', 'ig_org']\n",
    "y_qt = [site_org, yt_org, ig_org]\n",
    "\n",
    "plt.plot(x_orgs, y_qt)\n",
    "plt.xlabel('organic source')\n",
    "plt.ylabel('quantity')"
   ]
  }
 ],
 "metadata": {
  "kernelspec": {
   "display_name": "Python 3.10.7 64-bit",
   "language": "python",
   "name": "python3"
  },
  "language_info": {
   "codemirror_mode": {
    "name": "ipython",
    "version": 3
   },
   "file_extension": ".py",
   "mimetype": "text/x-python",
   "name": "python",
   "nbconvert_exporter": "python",
   "pygments_lexer": "ipython3",
   "version": "3.10.7"
  },
  "orig_nbformat": 4,
  "vscode": {
   "interpreter": {
    "hash": "396a487d0f9a1aeea6eec7e2661c1b70bd880358e710a503b71d50d0e4959784"
   }
  }
 },
 "nbformat": 4,
 "nbformat_minor": 2
}
